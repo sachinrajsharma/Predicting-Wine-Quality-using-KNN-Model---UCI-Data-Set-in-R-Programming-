{
 "cells": [
  {
   "cell_type": "markdown",
   "metadata": {},
   "source": [
    "# STEP 1 : Importing Libraries "
   ]
  },
  {
   "cell_type": "code",
   "execution_count": null,
   "metadata": {},
   "outputs": [],
   "source": [
    "library(tidyr)\n",
    "library(tidyverse)\n",
    "library(naniar)\n",
    "library(caTools)\n",
    "install.packages(\"kknn\")\n",
    "library(kknn)\n",
    "library(ggcorrplot)\n",
    "library(ggplot2)"
   ]
  },
  {
   "cell_type": "markdown",
   "metadata": {},
   "source": [
    "# STEP 2: Importing Data "
   ]
  },
  {
   "cell_type": "code",
   "execution_count": null,
   "metadata": {},
   "outputs": [],
   "source": [
    "red_wine <- read.csv(\"red_wine.csv\", sep = \";\")\n",
    "\n",
    "View(red_wine)"
   ]
  },
  {
   "cell_type": "markdown",
   "metadata": {},
   "source": [
    "# STEP 3 : Checking the missing values in the data "
   ]
  },
  {
   "cell_type": "code",
   "execution_count": null,
   "metadata": {},
   "outputs": [],
   "source": [
    "# Checking the missing values in the data \n",
    "\n",
    "sum(is.na(red_wine))\n",
    "\n",
    "#Visualizing the missing values using naniar\n",
    "\n",
    "vis_miss(red_wine)\n",
    "\n",
    "# Checking the missing values in each column \n",
    "\n",
    "sapply(red_wine, function(x)sum(is.na(x)))"
   ]
  },
  {
   "cell_type": "markdown",
   "metadata": {},
   "source": [
    "# STEP 4 : Doing feature scaling of the data excluding the last column of quality as it is dependent variable "
   ]
  },
  {
   "cell_type": "code",
   "execution_count": null,
   "metadata": {},
   "outputs": [],
   "source": [
    "\n",
    "\n",
    "red_wine[, 1:11]<- scale(red_wine[, 1:11])\n"
   ]
  },
  {
   "cell_type": "markdown",
   "metadata": {},
   "source": [
    "# STEP 5 : Checking the correlation in variables"
   ]
  },
  {
   "cell_type": "code",
   "execution_count": null,
   "metadata": {},
   "outputs": [],
   "source": [
    "\n",
    "\n",
    "r <- cor(red_wine, use = \"everything\")\n",
    "\n"
   ]
  },
  {
   "cell_type": "markdown",
   "metadata": {},
   "source": [
    "# STEP 6 : Splitting date into train set and test set "
   ]
  },
  {
   "cell_type": "code",
   "execution_count": null,
   "metadata": {},
   "outputs": [],
   "source": [
    "\n",
    "split_wine <- sample.split(red_wine$quality, SplitRatio = 0.75)\n",
    "\n",
    "wine_train <- subset(red_wine, split_wine ==TRUE )\n",
    "wine_test <- subset(red_wine, split_wine ==FALSE )\n",
    "\n",
    "\n",
    "nrow(wine_test)\n",
    "nrow(wine_train)\n",
    "\n",
    "\n",
    "ncol(wine_test)"
   ]
  },
  {
   "cell_type": "markdown",
   "metadata": {},
   "source": [
    "# STEP 7 : Preparing training set "
   ]
  },
  {
   "cell_type": "code",
   "execution_count": null,
   "metadata": {},
   "outputs": [],
   "source": [
    "\n",
    "library(class)\n",
    "\n",
    "y_pred = knn(train = wine_train[, -12],\n",
    "             test = wine_test[, -12],\n",
    "             cl = wine_train[, 12],\n",
    "             k = 2,\n",
    "             prob = TRUE)\n"
   ]
  },
  {
   "cell_type": "markdown",
   "metadata": {},
   "source": [
    "# STEP 8 : Making confusion matrix "
   ]
  },
  {
   "cell_type": "code",
   "execution_count": null,
   "metadata": {},
   "outputs": [],
   "source": [
    "cm_wine = table(wine_test[, 12], y_pred)"
   ]
  },
  {
   "cell_type": "markdown",
   "metadata": {},
   "source": [
    "# When K = 2 Model Accuracy  is 64% "
   ]
  },
  {
   "cell_type": "markdown",
   "metadata": {},
   "source": [
    "# Method II Defining outlier function, this is very useful when there are lot of outliers in the data as in our case "
   ]
  },
  {
   "cell_type": "code",
   "execution_count": null,
   "metadata": {},
   "outputs": [],
   "source": [
    "# Defining outlier function : \n",
    "\n",
    "outliers <- function(x) {\n",
    "  Q1 <- quantile(x, probs=.25)\n",
    "  Q3 <- quantile(x, probs=.75)\n",
    "  iqr = Q3-Q1\n",
    "  upper_limit = Q3 + (iqr*1.5)\n",
    "  lower_limit = Q1 - (iqr*1.5)\n",
    "  \n",
    "  x > upper_limit | x < lower_limit\n",
    "}\n",
    "\n",
    "remove_outliers <- function(red_wine, cols = names(red_wine)) {\n",
    "  for (col in cols) {\n",
    "    red_wine <- red_wine[!outliers(red_wine[[col]]),]\n",
    "  }\n",
    "  red_wine\n",
    "}\n",
    "\n",
    "\n",
    "\n",
    "#Step 3: Apply outlier function to data frame.\n",
    "\n",
    "#Lastly, let’s apply this function across multiple columns of the data frame to remove outliers:\n",
    "\n",
    "\n",
    "\n",
    "test_out <- remove_outliers(red_wine, c('fixed.acidity', 'volatile.acidity', 'citric.acid','residual.sugar', 'chlorides', 'free.sulfur.dioxide','total.sulfur.dioxide', 'density','residual.sugar', 'pH', 'sulphates','alcohol'))\n",
    "\n",
    "view(test_out)\n"
   ]
  },
  {
   "cell_type": "markdown",
   "metadata": {},
   "source": [
    "# Splitting date into train set and test set "
   ]
  },
  {
   "cell_type": "code",
   "execution_count": null,
   "metadata": {},
   "outputs": [],
   "source": [
    "split_wine_out <- sample.split(test_out$quality, SplitRatio = 0.75)\n",
    "\n",
    "wine_train_out <- subset(test_out, split_wine_out ==TRUE )\n",
    "wine_test_out <- subset(test_out, split_wine_out ==FALSE )\n",
    "\n",
    "\n",
    "nrow(wine_test_out)\n",
    "nrow(wine_train_out)\n",
    "\n",
    "\n",
    "ncol(wine_test)\n",
    "library(class)\n",
    "\n",
    "y_pred_out = knn(train = wine_train_out[, -12],\n",
    "             test = wine_test_out[, -12],\n",
    "             cl = wine_train_out[, 12],\n",
    "             k = 2,\n",
    "             prob = TRUE)\n",
    "\n",
    "# Making the Confusion Matrix\n",
    "cm_wine_out = table(wine_test_out[, 12], y_pred_out)\n",
    "\n",
    "\n",
    "\n",
    "cm_wine_out\n",
    "view(cm_wine)"
   ]
  },
  {
   "cell_type": "markdown",
   "metadata": {},
   "source": [
    "\n",
    "\n",
    "# Model Accuracy is 62.24%\n",
    "\n"
   ]
  }
 ],
 "metadata": {
  "kernelspec": {
   "display_name": "Python 3",
   "language": "python",
   "name": "python3"
  },
  "language_info": {
   "codemirror_mode": {
    "name": "ipython",
    "version": 3
   },
   "file_extension": ".py",
   "mimetype": "text/x-python",
   "name": "python",
   "nbconvert_exporter": "python",
   "pygments_lexer": "ipython3",
   "version": "3.8.5"
  }
 },
 "nbformat": 4,
 "nbformat_minor": 4
}
